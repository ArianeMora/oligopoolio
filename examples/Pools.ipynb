{
 "cells": [
  {
   "cell_type": "markdown",
   "id": "66d646d3-7640-429a-89e5-9eb511c21d6d",
   "metadata": {},
   "source": [
    "# Pools"
   ]
  },
  {
   "cell_type": "code",
   "execution_count": 1,
   "id": "503eaa83-dd81-41f1-8d44-85a218b7a8f0",
   "metadata": {},
   "outputs": [],
   "source": [
    "import sys\n",
    "\n",
    "sys.path.append('/Users/arianemora/Documents/code/oligopoolio')\n",
    "from oligopoolio import *"
   ]
  },
  {
   "cell_type": "code",
   "execution_count": 2,
   "id": "d77efd2a-d97a-40a6-ad72-98e08b80410b",
   "metadata": {},
   "outputs": [],
   "source": [
    "codon_optimized_fasta = '/Users/arianemora/Documents/code/oligopoolio/tests/data/example_fasta.fasta'"
   ]
  },
  {
   "cell_type": "code",
   "execution_count": 3,
   "id": "a7bde17c-84f3-40a7-94d7-2af3ee0d1432",
   "metadata": {},
   "outputs": [
    {
     "name": "stdout",
     "output_type": "stream",
     "text": [
      "\u001b[94m--------------------------------------------------------------------------------\u001b[0m\n",
      "\u001b[94mlcl|NZ_CP014268.2_cds_WP_000239730.1_3\tIssue: either did not have a methionine start or was longer than 320. This has been omitted\t\u001b[0m\n",
      "\u001b[94m--------------------------------------------------------------------------------\u001b[0m\n"
     ]
    },
    {
     "data": {
      "text/html": [
       "<div>\n",
       "<style scoped>\n",
       "    .dataframe tbody tr th:only-of-type {\n",
       "        vertical-align: middle;\n",
       "    }\n",
       "\n",
       "    .dataframe tbody tr th {\n",
       "        vertical-align: top;\n",
       "    }\n",
       "\n",
       "    .dataframe thead th {\n",
       "        text-align: right;\n",
       "    }\n",
       "</style>\n",
       "<table border=\"1\" class=\"dataframe\">\n",
       "  <thead>\n",
       "    <tr style=\"text-align: right;\">\n",
       "      <th></th>\n",
       "      <th>id</th>\n",
       "      <th>seq</th>\n",
       "      <th>forward_primer</th>\n",
       "      <th>reverse_primer</th>\n",
       "      <th>oligo</th>\n",
       "    </tr>\n",
       "  </thead>\n",
       "  <tbody>\n",
       "    <tr>\n",
       "      <th>0</th>\n",
       "      <td>lcl|NZ_CP014268.2_cds_WP_120795392.1_1</td>\n",
       "      <td>ATGACCATAGACAAAAATTGGCTTAATCGATCTAATAAAGATCCAG...</td>\n",
       "      <td>gaaggagatatacat</td>\n",
       "      <td>gatccggctgctaac</td>\n",
       "      <td>gaaggagatatacatATGACCATAGACAAAAATTGGCTTAATCGAT...</td>\n",
       "    </tr>\n",
       "    <tr>\n",
       "      <th>1</th>\n",
       "      <td>lcl|NZ_CP014268.2_cds_WP_000831330.1_2</td>\n",
       "      <td>ATGAAACGCACTTTTCAACCGTCTGTACTGAAGCGCAACCGTTCTC...</td>\n",
       "      <td>gaaggagatatacat</td>\n",
       "      <td>gatccggctgctaac</td>\n",
       "      <td>gaaggagatatacatATGAAACGCACTTTTCAACCGTCTGTACTGA...</td>\n",
       "    </tr>\n",
       "    <tr>\n",
       "      <th>2</th>\n",
       "      <td>lcl|NZ_CP014268.2_cds_WP_001307474.1_4</td>\n",
       "      <td>ATGGCGCCGCCACTGTCGCCTGGCTCGCGGGTCCTGATAGCCCTCA...</td>\n",
       "      <td>gaaggagatatacat</td>\n",
       "      <td>gatccggctgctaac</td>\n",
       "      <td>gaaggagatatacatATGGCGCCGCCACTGTCGCCTGGCTCGCGGG...</td>\n",
       "    </tr>\n",
       "  </tbody>\n",
       "</table>\n",
       "</div>"
      ],
      "text/plain": [
       "                                       id  \\\n",
       "0  lcl|NZ_CP014268.2_cds_WP_120795392.1_1   \n",
       "1  lcl|NZ_CP014268.2_cds_WP_000831330.1_2   \n",
       "2  lcl|NZ_CP014268.2_cds_WP_001307474.1_4   \n",
       "\n",
       "                                                 seq   forward_primer  \\\n",
       "0  ATGACCATAGACAAAAATTGGCTTAATCGATCTAATAAAGATCCAG...  gaaggagatatacat   \n",
       "1  ATGAAACGCACTTTTCAACCGTCTGTACTGAAGCGCAACCGTTCTC...  gaaggagatatacat   \n",
       "2  ATGGCGCCGCCACTGTCGCCTGGCTCGCGGGTCCTGATAGCCCTCA...  gaaggagatatacat   \n",
       "\n",
       "    reverse_primer                                              oligo  \n",
       "0  gatccggctgctaac  gaaggagatatacatATGACCATAGACAAAAATTGGCTTAATCGAT...  \n",
       "1  gatccggctgctaac  gaaggagatatacatATGAAACGCACTTTTCAACCGTCTGTACTGA...  \n",
       "2  gatccggctgctaac  gaaggagatatacatATGGCGCCGCCACTGTCGCCTGGCTCGCGGG...  "
      ]
     },
     "execution_count": 3,
     "metadata": {},
     "output_type": "execute_result"
    }
   ],
   "source": [
    "make_oligo_single(codon_optimized_fasta, forward_primer='gaaataattttgtttaactttaagaaggagatatacat', \n",
    "                      forward_primer_len=15, reverse_primer='gatccggctgctaacaaag', reverse_primer_len=15, max_len=320)"
   ]
  },
  {
   "cell_type": "code",
   "execution_count": 4,
   "id": "b0dfd3d2-24c2-41c5-9e0f-387ceed61502",
   "metadata": {},
   "outputs": [
    {
     "name": "stdout",
     "output_type": "stream",
     "text": [
      "\u001b[94m--------------------------------------------------------------------------------\u001b[0m\n",
      "\u001b[94mlcl|NZ_CP014268.2_cds_WP_000239730.1_3\tIssue: either did not have a methionine start or was longer than 640. This has been omitted\t\u001b[0m\n",
      "\u001b[94m--------------------------------------------------------------------------------\u001b[0m\n"
     ]
    },
    {
     "data": {
      "text/html": [
       "<div>\n",
       "<style scoped>\n",
       "    .dataframe tbody tr th:only-of-type {\n",
       "        vertical-align: middle;\n",
       "    }\n",
       "\n",
       "    .dataframe tbody tr th {\n",
       "        vertical-align: top;\n",
       "    }\n",
       "\n",
       "    .dataframe thead th {\n",
       "        text-align: right;\n",
       "    }\n",
       "</style>\n",
       "<table border=\"1\" class=\"dataframe\">\n",
       "  <thead>\n",
       "    <tr style=\"text-align: right;\">\n",
       "      <th></th>\n",
       "      <th>id</th>\n",
       "      <th>seq</th>\n",
       "      <th>label</th>\n",
       "      <th>overlap</th>\n",
       "      <th>rev_comp_overlap</th>\n",
       "      <th>oligo</th>\n",
       "    </tr>\n",
       "  </thead>\n",
       "  <tbody>\n",
       "    <tr>\n",
       "      <th>0</th>\n",
       "      <td>lcl|NZ_CP014268.2_cds_WP_120795392.1_1_1</td>\n",
       "      <td>ATGACCATAGACAAAAATTGGCTTAATCGATCTAATAAAGATCCAG...</td>\n",
       "      <td>first</td>\n",
       "      <td>taataaagatccaggacg</td>\n",
       "      <td>cgtcctggatctttatta</td>\n",
       "      <td>gaaggagatatacatATGACCATAGACAAAAATTGGCTTAATCGAT...</td>\n",
       "    </tr>\n",
       "    <tr>\n",
       "      <th>1</th>\n",
       "      <td>lcl|NZ_CP014268.2_cds_WP_120795392.1_1_2</td>\n",
       "      <td>ATGACCATAGACAAAAATTGGCTTAATCGATCTAATAAAGATCCAG...</td>\n",
       "      <td>second</td>\n",
       "      <td>taataaagatccaggacg</td>\n",
       "      <td>cgtcctggatctttatta</td>\n",
       "      <td>taataaagatccaggacgATCCTTGCGCTTTACCCATCAGCCCGTA...</td>\n",
       "    </tr>\n",
       "    <tr>\n",
       "      <th>2</th>\n",
       "      <td>lcl|NZ_CP014268.2_cds_WP_000831330.1_2_1</td>\n",
       "      <td>ATGAAACGCACTTTTCAACCGTCTGTACTGAAGCGCAACCGTTCTC...</td>\n",
       "      <td>first</td>\n",
       "      <td>tatggctactaaaaatgg</td>\n",
       "      <td>ccatttttagtagccata</td>\n",
       "      <td>gaaggagatatacatATGAAACGCACTTTTCAACCGTCTGTACTGA...</td>\n",
       "    </tr>\n",
       "    <tr>\n",
       "      <th>3</th>\n",
       "      <td>lcl|NZ_CP014268.2_cds_WP_000831330.1_2_2</td>\n",
       "      <td>ATGAAACGCACTTTTCAACCGTCTGTACTGAAGCGCAACCGTTCTC...</td>\n",
       "      <td>second</td>\n",
       "      <td>tatggctactaaaaatgg</td>\n",
       "      <td>ccatttttagtagccata</td>\n",
       "      <td>tatggctactaaaaatggTCGTCAGGTTCTGGCACGTCGTCGTGCT...</td>\n",
       "    </tr>\n",
       "    <tr>\n",
       "      <th>4</th>\n",
       "      <td>lcl|NZ_CP014268.2_cds_WP_001307474.1_4_1</td>\n",
       "      <td>ATGGCGCCGCCACTGTCGCCTGGCTCGCGGGTCCTGATAGCCCTCA...</td>\n",
       "      <td>first</td>\n",
       "      <td>ggaattgaggcattgcgc</td>\n",
       "      <td>gcgcaatgcctcaattcc</td>\n",
       "      <td>gaaggagatatacatATGGCGCCGCCACTGTCGCCTGGCTCGCGGG...</td>\n",
       "    </tr>\n",
       "    <tr>\n",
       "      <th>5</th>\n",
       "      <td>lcl|NZ_CP014268.2_cds_WP_001307474.1_4_2</td>\n",
       "      <td>ATGGCGCCGCCACTGTCGCCTGGCTCGCGGGTCCTGATAGCCCTCA...</td>\n",
       "      <td>second</td>\n",
       "      <td>ggaattgaggcattgcgc</td>\n",
       "      <td>gcgcaatgcctcaattcc</td>\n",
       "      <td>ggaattgaggcattgcgcAGGTTTGGAGTGATAAAAGGCAGTTGGT...</td>\n",
       "    </tr>\n",
       "  </tbody>\n",
       "</table>\n",
       "</div>"
      ],
      "text/plain": [
       "                                         id  \\\n",
       "0  lcl|NZ_CP014268.2_cds_WP_120795392.1_1_1   \n",
       "1  lcl|NZ_CP014268.2_cds_WP_120795392.1_1_2   \n",
       "2  lcl|NZ_CP014268.2_cds_WP_000831330.1_2_1   \n",
       "3  lcl|NZ_CP014268.2_cds_WP_000831330.1_2_2   \n",
       "4  lcl|NZ_CP014268.2_cds_WP_001307474.1_4_1   \n",
       "5  lcl|NZ_CP014268.2_cds_WP_001307474.1_4_2   \n",
       "\n",
       "                                                 seq   label  \\\n",
       "0  ATGACCATAGACAAAAATTGGCTTAATCGATCTAATAAAGATCCAG...   first   \n",
       "1  ATGACCATAGACAAAAATTGGCTTAATCGATCTAATAAAGATCCAG...  second   \n",
       "2  ATGAAACGCACTTTTCAACCGTCTGTACTGAAGCGCAACCGTTCTC...   first   \n",
       "3  ATGAAACGCACTTTTCAACCGTCTGTACTGAAGCGCAACCGTTCTC...  second   \n",
       "4  ATGGCGCCGCCACTGTCGCCTGGCTCGCGGGTCCTGATAGCCCTCA...   first   \n",
       "5  ATGGCGCCGCCACTGTCGCCTGGCTCGCGGGTCCTGATAGCCCTCA...  second   \n",
       "\n",
       "              overlap    rev_comp_overlap  \\\n",
       "0  taataaagatccaggacg  cgtcctggatctttatta   \n",
       "1  taataaagatccaggacg  cgtcctggatctttatta   \n",
       "2  tatggctactaaaaatgg  ccatttttagtagccata   \n",
       "3  tatggctactaaaaatgg  ccatttttagtagccata   \n",
       "4  ggaattgaggcattgcgc  gcgcaatgcctcaattcc   \n",
       "5  ggaattgaggcattgcgc  gcgcaatgcctcaattcc   \n",
       "\n",
       "                                               oligo  \n",
       "0  gaaggagatatacatATGACCATAGACAAAAATTGGCTTAATCGAT...  \n",
       "1  taataaagatccaggacgATCCTTGCGCTTTACCCATCAGCCCGTA...  \n",
       "2  gaaggagatatacatATGAAACGCACTTTTCAACCGTCTGTACTGA...  \n",
       "3  tatggctactaaaaatggTCGTCAGGTTCTGGCACGTCGTCGTGCT...  \n",
       "4  gaaggagatatacatATGGCGCCGCCACTGTCGCCTGGCTCGCGGG...  \n",
       "5  ggaattgaggcattgcgcAGGTTTGGAGTGATAAAAGGCAGTTGGT...  "
      ]
     },
     "execution_count": 4,
     "metadata": {},
     "output_type": "execute_result"
    }
   ],
   "source": [
    "make_oligo_double(codon_optimized_fasta, forward_primer='gaaataattttgtttaactttaagaaggagatatacat', \n",
    "                      forward_primer_len=15, reverse_primer='gatccggctgctaacaaag', reverse_primer_len=15, max_len=640, \n",
    "                      overlap_len=9)"
   ]
  }
 ],
 "metadata": {
  "kernelspec": {
   "display_name": "Python 3 (ipykernel)",
   "language": "python",
   "name": "python3"
  },
  "language_info": {
   "codemirror_mode": {
    "name": "ipython",
    "version": 3
   },
   "file_extension": ".py",
   "mimetype": "text/x-python",
   "name": "python",
   "nbconvert_exporter": "python",
   "pygments_lexer": "ipython3",
   "version": "3.10.14"
  }
 },
 "nbformat": 4,
 "nbformat_minor": 5
}
