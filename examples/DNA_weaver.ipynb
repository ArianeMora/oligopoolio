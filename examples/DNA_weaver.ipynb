{
 "cells": [
  {
   "cell_type": "markdown",
   "id": "04e33c47-4362-4ef3-9168-fb9bba96524c",
   "metadata": {},
   "source": [
    "# DNA weaver\n",
    "\n",
    "#### \n",
    "https://github.com/Edinburgh-Genome-Foundry/DnaWeaver/blob/master/examples/10kb_from_vendor_or_oligos.py"
   ]
  },
  {
   "cell_type": "code",
   "execution_count": null,
   "id": "f9ccab4c-dcd3-4a09-819a-88dfb993b046",
   "metadata": {},
   "outputs": [],
   "source": []
  },
  {
   "cell_type": "code",
   "execution_count": 1,
   "id": "a3400d1e-d6ed-42d7-870c-99487f0bb26d",
   "metadata": {},
   "outputs": [
    {
     "name": "stdout",
     "output_type": "stream",
     "text": [
      "Requirement already satisfied: dnaweaver in /disk1/ariane/.local/lib/python3.10/site-packages (0.3.8)\n",
      "Requirement already satisfied: numpy in /disk1/ariane/.local/lib/python3.10/site-packages (from dnaweaver) (2.1.3)\n",
      "Requirement already satisfied: Biopython in /disk1/ariane/miniconda3/envs/docko/lib/python3.10/site-packages (from dnaweaver) (1.83)\n",
      "Requirement already satisfied: proglog in /disk1/ariane/.local/lib/python3.10/site-packages (from dnaweaver) (0.1.10)\n",
      "Requirement already satisfied: networkx in /disk1/ariane/miniconda3/envs/docko/lib/python3.10/site-packages (from dnaweaver) (3.3)\n",
      "Requirement already satisfied: flametree in /disk1/ariane/.local/lib/python3.10/site-packages (from dnaweaver) (0.1.12)\n",
      "Requirement already satisfied: dna-features-viewer in /disk1/ariane/.local/lib/python3.10/site-packages (from dnaweaver) (3.1.3)\n",
      "Requirement already satisfied: weasyprint in /disk1/ariane/.local/lib/python3.10/site-packages (from dnaweaver) (63.0)\n",
      "Requirement already satisfied: pandas in /disk1/ariane/miniconda3/envs/docko/lib/python3.10/site-packages (from dnaweaver) (2.2.2)\n",
      "Requirement already satisfied: jinja2 in /disk1/ariane/miniconda3/envs/docko/lib/python3.10/site-packages (from dnaweaver) (3.1.4)\n",
      "Requirement already satisfied: matplotlib>=3 in /disk1/ariane/.local/lib/python3.10/site-packages (from dna-features-viewer->dnaweaver) (3.9.2)\n",
      "Requirement already satisfied: packaging in /disk1/ariane/miniconda3/envs/docko/lib/python3.10/site-packages (from dna-features-viewer->dnaweaver) (24.1)\n",
      "Requirement already satisfied: MarkupSafe>=2.0 in /disk1/ariane/miniconda3/envs/docko/lib/python3.10/site-packages (from jinja2->dnaweaver) (2.1.5)\n",
      "Requirement already satisfied: python-dateutil>=2.8.2 in /disk1/ariane/miniconda3/envs/docko/lib/python3.10/site-packages (from pandas->dnaweaver) (2.9.0.post0)\n",
      "Requirement already satisfied: pytz>=2020.1 in /disk1/ariane/miniconda3/envs/docko/lib/python3.10/site-packages (from pandas->dnaweaver) (2024.1)\n",
      "Requirement already satisfied: tzdata>=2022.7 in /disk1/ariane/miniconda3/envs/docko/lib/python3.10/site-packages (from pandas->dnaweaver) (2024.1)\n",
      "Requirement already satisfied: tqdm in /disk1/ariane/miniconda3/envs/docko/lib/python3.10/site-packages (from proglog->dnaweaver) (4.66.5)\n",
      "Requirement already satisfied: pydyf<0.12,>=0.11.0 in /disk1/ariane/.local/lib/python3.10/site-packages (from weasyprint->dnaweaver) (0.11.0)\n",
      "Requirement already satisfied: cffi<2,>=0.6 in /disk1/ariane/.local/lib/python3.10/site-packages (from weasyprint->dnaweaver) (1.17.1)\n",
      "Requirement already satisfied: tinyhtml5<3,>=2.0.0b1 in /disk1/ariane/.local/lib/python3.10/site-packages (from weasyprint->dnaweaver) (2.0.0)\n",
      "Requirement already satisfied: tinycss2<2,>=1.4.0 in /disk1/ariane/.local/lib/python3.10/site-packages (from weasyprint->dnaweaver) (1.4.0)\n",
      "Requirement already satisfied: cssselect2<0.8,>=0.1 in /disk1/ariane/.local/lib/python3.10/site-packages (from weasyprint->dnaweaver) (0.7.0)\n",
      "Requirement already satisfied: Pyphen<0.16,>=0.9.1 in /disk1/ariane/.local/lib/python3.10/site-packages (from weasyprint->dnaweaver) (0.15.0)\n",
      "Requirement already satisfied: Pillow<11,>=9.1.0 in /disk1/ariane/.local/lib/python3.10/site-packages (from weasyprint->dnaweaver) (10.4.0)\n",
      "Requirement already satisfied: fonttools<5,>=4.0.0 in /disk1/ariane/.local/lib/python3.10/site-packages (from fonttools[woff]<5,>=4.0.0->weasyprint->dnaweaver) (4.55.0)\n",
      "Requirement already satisfied: pycparser in /disk1/ariane/.local/lib/python3.10/site-packages (from cffi<2,>=0.6->weasyprint->dnaweaver) (2.22)\n",
      "Requirement already satisfied: webencodings in /disk1/ariane/miniconda3/envs/docko/lib/python3.10/site-packages (from cssselect2<0.8,>=0.1->weasyprint->dnaweaver) (0.5.1)\n",
      "Requirement already satisfied: zopfli>=0.1.4 in /disk1/ariane/.local/lib/python3.10/site-packages (from fonttools[woff]<5,>=4.0.0->weasyprint->dnaweaver) (0.2.3.post1)\n",
      "Requirement already satisfied: brotli>=1.0.1 in /disk1/ariane/.local/lib/python3.10/site-packages (from fonttools[woff]<5,>=4.0.0->weasyprint->dnaweaver) (1.1.0)\n",
      "Requirement already satisfied: contourpy>=1.0.1 in /disk1/ariane/.local/lib/python3.10/site-packages (from matplotlib>=3->dna-features-viewer->dnaweaver) (1.3.1)\n",
      "Requirement already satisfied: cycler>=0.10 in /disk1/ariane/.local/lib/python3.10/site-packages (from matplotlib>=3->dna-features-viewer->dnaweaver) (0.12.1)\n",
      "Requirement already satisfied: kiwisolver>=1.3.1 in /disk1/ariane/.local/lib/python3.10/site-packages (from matplotlib>=3->dna-features-viewer->dnaweaver) (1.4.7)\n",
      "Requirement already satisfied: pyparsing>=2.3.1 in /disk1/ariane/miniconda3/envs/docko/lib/python3.10/site-packages (from matplotlib>=3->dna-features-viewer->dnaweaver) (3.1.4)\n",
      "Requirement already satisfied: six>=1.5 in /disk1/ariane/miniconda3/envs/docko/lib/python3.10/site-packages (from python-dateutil>=2.8.2->pandas->dnaweaver) (1.16.0)\n"
     ]
    }
   ],
   "source": [
    "! pip install dnaweaver"
   ]
  },
  {
   "cell_type": "code",
   "execution_count": 8,
   "id": "aff1bbdb-e28c-4861-b244-d1399ca74cd2",
   "metadata": {},
   "outputs": [
    {
     "name": "stdout",
     "output_type": "stream",
     "text": [
      "Looking for the best assembly plan...\n"
     ]
    },
    {
     "name": "stderr",
     "output_type": "stream",
     "text": [
      "                                                                                   "
     ]
    },
    {
     "name": "stdout",
     "output_type": "stream",
     "text": [
      "Ordering plan (Gibson Assembly Station)::\n",
      "  0-230: From Oligo Assembly Station - price 49.46 - lead_time 8.0\n",
      "  230-519: From CheapDNA. - price 29.90 - lead_time 0.0\n",
      "Price:79.36, total lead_time:8.0\n",
      "Finished in 0 seconds\n"
     ]
    },
    {
     "name": "stderr",
     "output_type": "stream",
     "text": [
      "\r"
     ]
    }
   ],
   "source": [
    "import dnaweaver as dw\n",
    "import time\n",
    "\n",
    "cheap_dna_offer = dw.CommercialDnaOffer(\n",
    "    name=\"CheapDNA.\",\n",
    "    sequence_constraints=[\n",
    "        dw.NoPatternConstraint(enzyme=\"BsaI\"),\n",
    "        dw.SequenceLengthConstraint(max_length=4000),\n",
    "    ],\n",
    "    pricing=dw.PerBasepairPricing(0.10),\n",
    ")\n",
    "\n",
    "oligo_dna_offer = dw.CommercialDnaOffer(\n",
    "    name=\"OliGoo\",\n",
    "    sequence_constraints=[\n",
    "        dw.GcContentConstraint(min_gc=0.3, max_gc=0.7),\n",
    "        dw.SequenceLengthConstraint(max_length=100),\n",
    "    ],\n",
    "    pricing=dw.PerBasepairPricing(0.07),\n",
    "    memoize=True,\n",
    ")\n",
    "\n",
    "oligo_assembly_station = dw.DnaAssemblyStation(\n",
    "    name=\"Oligo Assembly Station\",\n",
    "    assembly_method=dw.OligoAssemblyMethod(\n",
    "        overhang_selector=dw.TmSegmentSelector(\n",
    "            min_size=15, max_size=25, min_tm=50, max_tm=70\n",
    "        ),\n",
    "        min_segment_length=40,\n",
    "        max_segment_length=200,\n",
    "        sequence_constraints=[dw.SequenceLengthConstraint(max_length=1500)],\n",
    "        duration=8,\n",
    "        cost=30,\n",
    "    ),\n",
    "    supplier=oligo_dna_offer,\n",
    "    coarse_grain=20,\n",
    "    a_star_factor=\"auto\",\n",
    "    memoize=True,\n",
    ")\n",
    "\n",
    "assembly_station = dw.DnaAssemblyStation(\n",
    "    name=\"Gibson Assembly Station\",\n",
    "    assembly_method=dw.GibsonAssemblyMethod(\n",
    "        overhang_selector=dw.TmSegmentSelector(min_tm=55, max_tm=70),\n",
    "        min_segment_length=100,\n",
    "        max_segment_length=500,\n",
    "    ),\n",
    "    supplier=[cheap_dna_offer, oligo_assembly_station],\n",
    "    logger=\"bar\",\n",
    "    coarse_grain=100,\n",
    "    fine_grain=10,\n",
    "    a_star_factor=\"auto\",\n",
    ")\n",
    "print(\"Looking for the best assembly plan...\")\n",
    "t0 = time.time()\n",
    "sequence = \"ATGACGACGCCGTGGTCGGGAGAGTTAATTGTGGATTTATTAAATCAGCGTCCTCGCGGACAAGTCGTGTTAGATGCTGCTAATGGGGTGGATTATGAGCTGCGCTCTCAAGAGACCGGACCAATTGACATCGACGCACACGGACCCGCTCGCTGCCTGACCGGAACGGGCTCCCGTACGACGCGTTGGATTCGCCAACATCAGCGCAATACTCGCGTTTTGGGCCTGTCGCATGaccctacagttgctgacgcgcgcgaattgttacgtttaggggctttggGCCTTTTACCTAAAAATGCCGAGCCAGCGGAAATCTTCCAAGCGTTAGATCAAGCTGCCGCCGACCACATTCACACGAATGACCTTGTGCGCGACGCACCCCGTACCCCCGCTCTTCCTGAAGAAGAGGAGGCAGAACGCGTCAACGCTTTGCCAGACCAGGGCGCGGCGCGCACGGGCGCTTTGGGAGCCCAAGGTTGGCCCCACCATACTCCTGACCAACCGGCGCGCTTAGGT\"\n",
    "quote = assembly_station.get_quote(sequence, with_assembly_plan=True)\n",
    "print(quote.assembly_step_summary())\n",
    "print(\"Finished in %.01d seconds\" % (time.time() - t0))"
   ]
  },
  {
   "cell_type": "code",
   "execution_count": null,
   "id": "db55993c",
   "metadata": {},
   "outputs": [],
   "source": []
  },
  {
   "cell_type": "code",
   "execution_count": 9,
   "id": "e5702e46-03b8-424a-bb34-b7a8421f1135",
   "metadata": {},
   "outputs": [
    {
     "data": {
      "text/plain": [
       "'ATGACGACGCCGTGGTCGGGAGAGTTAATTGTGGATTTATTAAATCAGCGTCCTCGCGGACAAGTCGTGTTAGATGCTGCTAATGGGGTGGATTATGAGCTGCGCTCTCAAGAGACCGGACCAATTGACATCGACGCACACGGACCCGCTCGCTGCCTGACCGGAACGGGCTCCCGTACGACGCGTTGGATTCGCCAACATCAGCGCAATACTCGCGTTTTGGGCCTGTCGCATGaccctacagttgctgacgcgcgcgaattgttacgtttaggggctttggGCCTTTTACCTAAAAATGCCGAGCCAGCGGAAATCTTCCAAGCGTTAGATCAAGCTGCCGCCGACCACATTCACACGAATGACCTTGTGCGCGACGCACCCCGTACCCCCGCTCTTCCTGAAGAAGAGGAGGCAGAACGCGTCAACGCTTTGCCAGACCAGGGCGCGGCGCGCACGGGCGCTTTGGGAGCCCAAGGTTGGCCCCACCATACTCCTGACCAACCGGCGCGCTTAGGT'"
      ]
     },
     "execution_count": 9,
     "metadata": {},
     "output_type": "execute_result"
    }
   ],
   "source": [
    "sequence"
   ]
  },
  {
   "cell_type": "code",
   "execution_count": 4,
   "id": "c45155cb-ff9e-41c6-a7b0-3ada05cfd936",
   "metadata": {},
   "outputs": [
    {
     "name": "stdout",
     "output_type": "stream",
     "text": [
      "Collecting PyGObject\n",
      "  Downloading pygobject-3.50.0.tar.gz (1.1 MB)\n",
      "\u001b[2K     \u001b[90m━━━━━━━━━━━━━━━━━━━━━━━━━━━━━━━━━━━━━━━━\u001b[0m \u001b[32m1.1/1.1 MB\u001b[0m \u001b[31m10.2 MB/s\u001b[0m eta \u001b[36m0:00:00\u001b[0m\n",
      "\u001b[?25h  Installing build dependencies ... \u001b[?25lerror\n",
      "  \u001b[1;31merror\u001b[0m: \u001b[1msubprocess-exited-with-error\u001b[0m\n",
      "  \n",
      "  \u001b[31m×\u001b[0m \u001b[32mpip subprocess to install build dependencies\u001b[0m did not run successfully.\n",
      "  \u001b[31m│\u001b[0m exit code: \u001b[1;36m1\u001b[0m\n",
      "  \u001b[31m╰─>\u001b[0m \u001b[31m[79 lines of output]\u001b[0m\n",
      "  \u001b[31m   \u001b[0m Collecting meson-python>=0.12.1\n",
      "  \u001b[31m   \u001b[0m   Downloading meson_python-0.17.1-py3-none-any.whl.metadata (4.1 kB)\n",
      "  \u001b[31m   \u001b[0m Collecting pycairo>=1.16\n",
      "  \u001b[31m   \u001b[0m   Downloading pycairo-1.27.0.tar.gz (661 kB)\n",
      "  \u001b[31m   \u001b[0m \u001b[?25l     \u001b[90m━━━━━━━━━━━━━━━━━━━━━━━━━━━━━━━━━━━━━━━━\u001b[0m \u001b[32m0.0/661.5 kB\u001b[0m \u001b[31m?\u001b[0m eta \u001b[36m-:--:--\u001b[0m\n",
      "  \u001b[31m   \u001b[0m \u001b[2K     \u001b[90m━━━━━━━━━━━━━━━━━━━━━━━━━━━━━━━━━━━━━━━\u001b[0m \u001b[32m661.5/661.5 kB\u001b[0m \u001b[31m5.8 MB/s\u001b[0m eta \u001b[36m0:00:00\u001b[0m\n",
      "  \u001b[31m   \u001b[0m \u001b[?25h  Installing build dependencies: started\n",
      "  \u001b[31m   \u001b[0m   Installing build dependencies: finished with status 'done'\n",
      "  \u001b[31m   \u001b[0m   Getting requirements to build wheel: started\n",
      "  \u001b[31m   \u001b[0m   Getting requirements to build wheel: finished with status 'done'\n",
      "  \u001b[31m   \u001b[0m   Installing backend dependencies: started\n",
      "  \u001b[31m   \u001b[0m   Installing backend dependencies: finished with status 'done'\n",
      "  \u001b[31m   \u001b[0m   Preparing metadata (pyproject.toml): started\n",
      "  \u001b[31m   \u001b[0m   Preparing metadata (pyproject.toml): finished with status 'error'\n",
      "  \u001b[31m   \u001b[0m   \u001b[1;31merror\u001b[0m: \u001b[1msubprocess-exited-with-error\u001b[0m\n",
      "  \u001b[31m   \u001b[0m \n",
      "  \u001b[31m   \u001b[0m   \u001b[31m×\u001b[0m \u001b[32mPreparing metadata \u001b[0m\u001b[1;32m(\u001b[0m\u001b[32mpyproject.toml\u001b[0m\u001b[1;32m)\u001b[0m did not run successfully.\n",
      "  \u001b[31m   \u001b[0m   \u001b[31m│\u001b[0m exit code: \u001b[1;36m1\u001b[0m\n",
      "  \u001b[31m   \u001b[0m   \u001b[31m╰─>\u001b[0m \u001b[31m[50 lines of output]\u001b[0m\n",
      "  \u001b[31m   \u001b[0m   \u001b[31m   \u001b[0m \u001b[36m\u001b[1m+ meson setup /private/var/folders/sj/4wqsfdtd6093v9746b0t3mq40000gn/T/pip-install-v27hw42l/pycairo_598ca31f8cfd4a7a8b72b9c59e4cad39 /private/var/folders/sj/4wqsfdtd6093v9746b0t3mq40000gn/T/pip-install-v27hw42l/pycairo_598ca31f8cfd4a7a8b72b9c59e4cad39/.mesonpy-db1o3mrk -Dbuildtype=release -Db_ndebug=if-release -Db_vscrt=md -Dwheel=true -Dtests=false --native-file=/private/var/folders/sj/4wqsfdtd6093v9746b0t3mq40000gn/T/pip-install-v27hw42l/pycairo_598ca31f8cfd4a7a8b72b9c59e4cad39/.mesonpy-db1o3mrk/meson-python-native-file.ini\u001b[0m\n",
      "  \u001b[31m   \u001b[0m   \u001b[31m   \u001b[0m The Meson build system\n",
      "  \u001b[31m   \u001b[0m   \u001b[31m   \u001b[0m Version: 1.6.0\n",
      "  \u001b[31m   \u001b[0m   \u001b[31m   \u001b[0m Source dir: /private/var/folders/sj/4wqsfdtd6093v9746b0t3mq40000gn/T/pip-install-v27hw42l/pycairo_598ca31f8cfd4a7a8b72b9c59e4cad39\n",
      "  \u001b[31m   \u001b[0m   \u001b[31m   \u001b[0m Build dir: /private/var/folders/sj/4wqsfdtd6093v9746b0t3mq40000gn/T/pip-install-v27hw42l/pycairo_598ca31f8cfd4a7a8b72b9c59e4cad39/.mesonpy-db1o3mrk\n",
      "  \u001b[31m   \u001b[0m   \u001b[31m   \u001b[0m Build type: native build\n",
      "  \u001b[31m   \u001b[0m   \u001b[31m   \u001b[0m Project name: pycairo\n",
      "  \u001b[31m   \u001b[0m   \u001b[31m   \u001b[0m Project version: 1.27.0\n",
      "  \u001b[31m   \u001b[0m   \u001b[31m   \u001b[0m C compiler for the host machine: cc (clang 15.0.0 \"Apple clang version 15.0.0 (clang-1500.3.9.4)\")\n",
      "  \u001b[31m   \u001b[0m   \u001b[31m   \u001b[0m C linker for the host machine: cc ld64 1053.12\n",
      "  \u001b[31m   \u001b[0m   \u001b[31m   \u001b[0m Host machine cpu family: aarch64\n",
      "  \u001b[31m   \u001b[0m   \u001b[31m   \u001b[0m Host machine cpu: aarch64\n",
      "  \u001b[31m   \u001b[0m   \u001b[31m   \u001b[0m Program python3 found: YES (/Users/arianemora/miniconda3/envs/oligo/bin/python3.10)\n",
      "  \u001b[31m   \u001b[0m   \u001b[31m   \u001b[0m Compiler for C supports arguments -Wall: YES\n",
      "  \u001b[31m   \u001b[0m   \u001b[31m   \u001b[0m Compiler for C supports arguments -Warray-bounds: YES\n",
      "  \u001b[31m   \u001b[0m   \u001b[31m   \u001b[0m Compiler for C supports arguments -Wcast-align: YES\n",
      "  \u001b[31m   \u001b[0m   \u001b[31m   \u001b[0m Compiler for C supports arguments -Wconversion: YES\n",
      "  \u001b[31m   \u001b[0m   \u001b[31m   \u001b[0m Compiler for C supports arguments -Wextra: YES\n",
      "  \u001b[31m   \u001b[0m   \u001b[31m   \u001b[0m Compiler for C supports arguments -Wformat=2: YES\n",
      "  \u001b[31m   \u001b[0m   \u001b[31m   \u001b[0m Compiler for C supports arguments -Wformat-nonliteral: YES\n",
      "  \u001b[31m   \u001b[0m   \u001b[31m   \u001b[0m Compiler for C supports arguments -Wformat-security: YES\n",
      "  \u001b[31m   \u001b[0m   \u001b[31m   \u001b[0m Compiler for C supports arguments -Wimplicit-function-declaration: YES\n",
      "  \u001b[31m   \u001b[0m   \u001b[31m   \u001b[0m Compiler for C supports arguments -Winit-self: YES\n",
      "  \u001b[31m   \u001b[0m   \u001b[31m   \u001b[0m Compiler for C supports arguments -Winline: YES\n",
      "  \u001b[31m   \u001b[0m   \u001b[31m   \u001b[0m Compiler for C supports arguments -Wmissing-format-attribute: YES\n",
      "  \u001b[31m   \u001b[0m   \u001b[31m   \u001b[0m Compiler for C supports arguments -Wmissing-noreturn: YES\n",
      "  \u001b[31m   \u001b[0m   \u001b[31m   \u001b[0m Compiler for C supports arguments -Wnested-externs: YES\n",
      "  \u001b[31m   \u001b[0m   \u001b[31m   \u001b[0m Compiler for C supports arguments -Wold-style-definition: YES\n",
      "  \u001b[31m   \u001b[0m   \u001b[31m   \u001b[0m Compiler for C supports arguments -Wpacked: YES\n",
      "  \u001b[31m   \u001b[0m   \u001b[31m   \u001b[0m Compiler for C supports arguments -Wpointer-arith: YES\n",
      "  \u001b[31m   \u001b[0m   \u001b[31m   \u001b[0m Compiler for C supports arguments -Wreturn-type: YES\n",
      "  \u001b[31m   \u001b[0m   \u001b[31m   \u001b[0m Compiler for C supports arguments -Wshadow: YES\n",
      "  \u001b[31m   \u001b[0m   \u001b[31m   \u001b[0m Compiler for C supports arguments -Wsign-compare: YES\n",
      "  \u001b[31m   \u001b[0m   \u001b[31m   \u001b[0m Compiler for C supports arguments -Wstrict-aliasing: YES\n",
      "  \u001b[31m   \u001b[0m   \u001b[31m   \u001b[0m Compiler for C supports arguments -Wundef: YES\n",
      "  \u001b[31m   \u001b[0m   \u001b[31m   \u001b[0m Compiler for C supports arguments -Wunused-but-set-variable: YES\n",
      "  \u001b[31m   \u001b[0m   \u001b[31m   \u001b[0m Compiler for C supports arguments -Wswitch-default: YES\n",
      "  \u001b[31m   \u001b[0m   \u001b[31m   \u001b[0m Compiler for C supports arguments -Wno-missing-field-initializers: YES\n",
      "  \u001b[31m   \u001b[0m   \u001b[31m   \u001b[0m Compiler for C supports arguments -Wno-unused-parameter: YES\n",
      "  \u001b[31m   \u001b[0m   \u001b[31m   \u001b[0m Compiler for C supports arguments -fno-strict-aliasing: YES\n",
      "  \u001b[31m   \u001b[0m   \u001b[31m   \u001b[0m Compiler for C supports arguments -fvisibility=hidden: YES\n",
      "  \u001b[31m   \u001b[0m   \u001b[31m   \u001b[0m Did not find pkg-config by name 'pkg-config'\n",
      "  \u001b[31m   \u001b[0m   \u001b[31m   \u001b[0m Found pkg-config: NO\n",
      "  \u001b[31m   \u001b[0m   \u001b[31m   \u001b[0m Did not find CMake 'cmake'\n",
      "  \u001b[31m   \u001b[0m   \u001b[31m   \u001b[0m Found CMake: NO\n",
      "  \u001b[31m   \u001b[0m   \u001b[31m   \u001b[0m Run-time dependency cairo found: NO (tried framework)\n",
      "  \u001b[31m   \u001b[0m   \u001b[31m   \u001b[0m\n",
      "  \u001b[31m   \u001b[0m   \u001b[31m   \u001b[0m ../cairo/meson.build:31:12: ERROR: Dependency lookup for cairo with method 'pkgconfig' failed: Pkg-config for machine host machine not found. Giving up.\n",
      "  \u001b[31m   \u001b[0m   \u001b[31m   \u001b[0m\n",
      "  \u001b[31m   \u001b[0m   \u001b[31m   \u001b[0m A full log can be found at /private/var/folders/sj/4wqsfdtd6093v9746b0t3mq40000gn/T/pip-install-v27hw42l/pycairo_598ca31f8cfd4a7a8b72b9c59e4cad39/.mesonpy-db1o3mrk/meson-logs/meson-log.txt\n",
      "  \u001b[31m   \u001b[0m   \u001b[31m   \u001b[0m \u001b[31m[end of output]\u001b[0m\n",
      "  \u001b[31m   \u001b[0m \n",
      "  \u001b[31m   \u001b[0m   \u001b[1;35mnote\u001b[0m: This error originates from a subprocess, and is likely not a problem with pip.\n",
      "  \u001b[31m   \u001b[0m \u001b[1;31merror\u001b[0m: \u001b[1mmetadata-generation-failed\u001b[0m\n",
      "  \u001b[31m   \u001b[0m \n",
      "  \u001b[31m   \u001b[0m \u001b[31m×\u001b[0m Encountered error while generating package metadata.\n",
      "  \u001b[31m   \u001b[0m \u001b[31m╰─>\u001b[0m See above for output.\n",
      "  \u001b[31m   \u001b[0m \n",
      "  \u001b[31m   \u001b[0m \u001b[1;35mnote\u001b[0m: This is an issue with the package mentioned above, not pip.\n",
      "  \u001b[31m   \u001b[0m \u001b[1;36mhint\u001b[0m: See above for details.\n",
      "  \u001b[31m   \u001b[0m \u001b[31m[end of output]\u001b[0m\n",
      "  \n",
      "  \u001b[1;35mnote\u001b[0m: This error originates from a subprocess, and is likely not a problem with pip.\n",
      "\u001b[1;31merror\u001b[0m: \u001b[1msubprocess-exited-with-error\u001b[0m\n",
      "\n",
      "\u001b[31m×\u001b[0m \u001b[32mpip subprocess to install build dependencies\u001b[0m did not run successfully.\n",
      "\u001b[31m│\u001b[0m exit code: \u001b[1;36m1\u001b[0m\n",
      "\u001b[31m╰─>\u001b[0m See above for output.\n",
      "\n",
      "\u001b[1;35mnote\u001b[0m: This error originates from a subprocess, and is likely not a problem with pip.\n",
      "\u001b[?25h"
     ]
    }
   ],
   "source": [
    "! pip install PyGObject"
   ]
  }
 ],
 "metadata": {
  "kernelspec": {
   "display_name": "Python 3 (ipykernel)",
   "language": "python",
   "name": "python3"
  },
  "language_info": {
   "codemirror_mode": {
    "name": "ipython",
    "version": 3
   },
   "file_extension": ".py",
   "mimetype": "text/x-python",
   "name": "python",
   "nbconvert_exporter": "python",
   "pygments_lexer": "ipython3",
   "version": "3.10.14"
  }
 },
 "nbformat": 4,
 "nbformat_minor": 5
}
