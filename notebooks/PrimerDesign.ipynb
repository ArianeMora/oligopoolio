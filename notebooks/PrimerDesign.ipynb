{
 "cells": [
  {
   "cell_type": "markdown",
   "id": "3a7904c3-b82b-4c92-b888-f672c0b7d872",
   "metadata": {},
   "source": [
    "# Primer design\n",
    "\n",
    "Optimal primer design for Bsa1 involves several key considerations for Golden Gate cloning or other PCR applications. \n",
    "Primers should be 18-24 base pairs long, \n",
    "have a GC content of 40-60%\n",
    "end in G or C for a \"GC clamp\" to enhance binding. \n",
    "\n",
    "Avoiding secondary structures and primer dimers is also crucial. Specific primers for a particular application (e.g., Golden Gate cloning with BsaI) will also need to incorporate the BsaI recognition sequence. \n",
    "\n",
    "#### Primer Design Guidelines:\n",
    "Length: 18-24 base pairs. \n",
    "GC Content: Aim for 40-60%, with 50-55% being ideal.   \n",
    "Tm (Melting Temperature): Strive for a Tm between 50 and 65°C.   \n",
    "GC Clamp: Consider ending the 3' end of the primer with a G or C.   \n",
    "Avoid Repeats: Minimize long runs of Gs or Cs.   \n",
    "Secondary Structure: Design primers to avoid regions of high secondary structure in the target sequence.   \n",
    "Primer Dimers: Ensure primers do not form dimers, which can interfere with PCR.   \n",
    "\n",
    "\n",
    "CGCCGCGGCCGC-GGTCTC-C-NNNNNNNNNNN-C-GGTCTC-CGCGGGGCGGCG"
   ]
  },
  {
   "cell_type": "code",
   "execution_count": 3,
   "id": "f766ad92-1b8e-41ff-981d-a0c3a1be030f",
   "metadata": {},
   "source": [
    "! pip install pyswarms"
   ],
   "outputs": []
  },
  {
   "cell_type": "code",
   "execution_count": 2,
   "id": "d742f9cc-41d5-4567-97b6-c8123715e8a7",
   "metadata": {},
   "source": [
    "# Designing primers for BSA1 \n",
    "from oligopoolio import *\n",
    "\n",
    "\n",
    "bsa1_site = 'GGTCTC'\n",
    "\n",
    "primer_min, primer_max = 18, 24\n",
    "gc_optimal = 0.5\n",
    "tm_optimal = 0.65\n",
    "structure_dg = 0 # aim for greater than 0\n",
    "\n",
    "# Probably best to use something like pyswarm \n"
   ],
   "outputs": []
  },
  {
   "cell_type": "code",
   "execution_count": 5,
   "id": "05d7f9e4-876f-4bf2-8661-f0d6cfb7fe0d",
   "metadata": {},
   "source": [
    "import pyswarms as ps\n",
    "import numpy as np\n",
    "import itertools\n",
    "from primer3 import calc_hairpin, calc_homodimer\n",
    "\n",
    "nt_to_index = {'A': 0, 'C': 1, 'G': 2, 'T': 3}\n",
    "index_to_nt = {v: k for k, v in nt_to_index.items()}\n",
    "\n",
    "def encode_primer(seq):\n",
    "    return np.array([nt_to_index[nt] for nt in seq])\n",
    "\n",
    "def decode_primer(arr):\n",
    "    rounded = np.clip(np.round(arr), 0, 3).astype(int)\n",
    "    return ''.join(index_to_nt[i] for i in rounded)\n",
    "\n",
    "def gc_content(seq):\n",
    "    return (seq.count('G') + seq.count('C')) / len(seq)\n",
    "\n",
    "def melting_temp(seq):\n",
    "    # Basic Wallace rule\n",
    "    return 2 * (seq.count('A') + seq.count('T')) + 4 * (seq.count('G') + seq.count('C'))\n",
    "\n",
    "def objective_function(x):\n",
    "    penalties = []\n",
    "    for row in x:\n",
    "        seq = decode_primer(row)\n",
    "        gc = gc_content(seq)\n",
    "        tm = melting_temp(seq)\n",
    "\n",
    "        results = check_secondary_structure(primer_overlap)\n",
    "        homodimer_tm = results['homodimer']['homodimer_dg']\n",
    "        hairpin_tm = results['hairpin']['hairpin_dg']\n",
    "        \n",
    "        # Penalize if Tm deviates from 60\n",
    "        primer_tm = primer3.bindings.calcTm(seq)\n",
    "        tm_penalty = (primer_tm - 60)**2\n",
    "        \n",
    "        # Penalize if GC content is far from 0.5\n",
    "        gc_penalty = (gc - 0.5)**2\n",
    "        \n",
    "        # Example: simple penalty for homopolymer runs\n",
    "        max_homopolymer = max(len(list(g)) for _, g in itertools.groupby(seq))\n",
    "        homo_penalty = 10 * max(0, max_homopolymer - 4)\n",
    "        \n",
    "        penalties.append(tm_penalty + gc_penalty + homo_penalty)\n",
    "    return np.array(penalties)"
   ],
   "outputs": []
  },
  {
   "cell_type": "code",
   "execution_count": 6,
   "id": "673746b6-cc0f-4fdd-b93b-08356e30f8e2",
   "metadata": {},
   "source": [
    "import pyswarms as ps\n",
    "\n",
    "primer_len = 20\n",
    "options = {'c1': 1.5, 'c2': 1.5, 'w': 0.7}\n",
    "bounds = (np.zeros(primer_len), np.ones(primer_len) * 3)\n",
    "\n",
    "optimizer = ps.single.GlobalBestPSO(\n",
    "    n_particles=50,\n",
    "    dimensions=primer_len,\n",
    "    options=options,\n",
    "    bounds=bounds\n",
    ")\n",
    "\n",
    "best_cost, best_pos = optimizer.optimize(objective_function, iters=200)\n",
    "print(\"Best primer:\", decode_primer(best_pos))"
   ],
   "outputs": []
  }
 ],
 "metadata": {
  "kernelspec": {
   "display_name": "Python 3 (ipykernel)",
   "language": "python",
   "name": "python3"
  },
  "language_info": {
   "codemirror_mode": {
    "name": "ipython",
    "version": 3
   },
   "file_extension": ".py",
   "mimetype": "text/x-python",
   "name": "python",
   "nbconvert_exporter": "python",
   "pygments_lexer": "ipython3",
   "version": "3.10.14"
  }
 },
 "nbformat": 4,
 "nbformat_minor": 5
}
