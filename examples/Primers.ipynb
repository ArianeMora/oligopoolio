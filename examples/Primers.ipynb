{
 "cells": [
  {
   "cell_type": "markdown",
   "id": "875436c8-1b6b-4641-8ccf-b1d3c4e823c0",
   "metadata": {},
   "source": [
    "# Primers\n",
    "\n",
    "Examples making primers"
   ]
  },
  {
   "cell_type": "code",
   "execution_count": 2,
   "id": "3cdddc32-4773-48b9-9d78-ab8d7e9409b4",
   "metadata": {},
   "source": [
    "import sys\n",
    "from oligopoolio import *"
   ],
   "outputs": []
  },
  {
   "cell_type": "code",
   "execution_count": 3,
   "id": "27b4bada-d71f-4aad-a7b1-0872f9a16c77",
   "metadata": {},
   "source": [
    "# Placeholder gene ends (replace with your actual gene sequences)\n",
    "gene = \"ATGAGCGATCTGCATAACGAGTCCATTTTTATTACCGGCGGCGGATCGGGATTAGGGCTGGCGCTGGTCGAGCGATTTAT\\\n",
    "CGAAGAAGGCGCGCAGGTTGCCACGCTGGAACTGTCGGCGGCAAAAGTCGCCAGTCTGCGTCAGCGATTTGGCGAACATA\\\n",
    "AATAATCGCGCATTAAGCGGTGTGATGATCAACGCTGATGCGGGTTTAGCGATTCGCGGCATTCGCCACGTAGCGGCTGG\\\n",
    "GCTGGATCTTTAA\"\n",
    "\n",
    "# Standard pET-22b(+) primer sequences\n",
    "forward_plasmid_primer = \"GGAGATATACATATG\"\n",
    "reverse_plasmid_primer = \"GCTTTGTTAGCAGCCGGATCTCA\"\n",
    "\n",
    "# Desired Tm range for optimization\n",
    "desired_tm = 62.0  # Target melting temperature in °C\n",
    "tm_tolerance = 5.0  # Allowable deviation from the desired Tm\n",
    "\n",
    "# Generate and optimize forward primer\n",
    "min_length = 13\n",
    "max_length = 20\n",
    "forward_gene_primer, forward_tm = optimize_primer(forward_plasmid_primer, gene, desired_tm, 'forward',\n",
    "                                                  min_length, max_length, tm_tolerance)\n",
    "reverse_gene_primer, reverse_tm = optimize_primer(reverse_plasmid_primer, gene, desired_tm, 'reverse',\n",
    "                                                  min_length, max_length, tm_tolerance)"
   ],
   "outputs": []
  },
  {
   "cell_type": "code",
   "execution_count": 5,
   "id": "79ed5e6c-3b11-46e2-a0f9-0b58cf4607bd",
   "metadata": {},
   "source": [
    "reverse_gene_primer, reverse_tm "
   ],
   "outputs": []
  },
  {
   "cell_type": "code",
   "execution_count": 6,
   "id": "bd3a1e07-b9c5-4fb8-b739-47fb0d0eda9a",
   "metadata": {},
   "source": [
    "forward_gene_primer, forward_tm "
   ],
   "outputs": []
  },
  {
   "cell_type": "code",
   "execution_count": 9,
   "id": "2b581ada-8454-4ecf-8040-28d33ab81983",
   "metadata": {},
   "source": [
    "# e.g. change the temperature\n",
    "\n",
    "# Desired Tm range for optimization\n",
    "desired_tm = 50.0  # Target melting temperature in °C\n",
    "tm_tolerance = 5.0  # Allowable deviation from the desired Tm\n",
    "\n",
    "forward_gene_primer, forward_tm = optimize_primer(forward_plasmid_primer, gene, desired_tm, 'forward',\n",
    "                                                  min_length, max_length, tm_tolerance)\n",
    "reverse_gene_primer, reverse_tm = optimize_primer(reverse_plasmid_primer, gene, desired_tm, 'reverse',\n",
    "                                                  min_length, max_length, tm_tolerance)\n",
    "\n",
    "print(forward_gene_primer, forward_tm)\n",
    "print(reverse_gene_primer, reverse_tm)"
   ],
   "outputs": []
  },
  {
   "cell_type": "code",
   "execution_count": 10,
   "id": "8325fbd2-e7ac-4a0e-a214-82ce0c6884a8",
   "metadata": {},
   "source": [
    "# e.g. change the temperature\n",
    "\n",
    "# Desired Tm range for optimization\n",
    "desired_tm = 70.0  # Target melting temperature in °C\n",
    "tm_tolerance = 5.0  # Allowable deviation from the desired Tm\n",
    "\n",
    "forward_gene_primer, forward_tm = optimize_primer(forward_plasmid_primer, gene, desired_tm, 'forward',\n",
    "                                                  min_length, max_length, tm_tolerance)\n",
    "reverse_gene_primer, reverse_tm = optimize_primer(reverse_plasmid_primer, gene, desired_tm, 'reverse',\n",
    "                                                  min_length, max_length, tm_tolerance)\n",
    "\n",
    "print(forward_gene_primer, forward_tm)\n",
    "print(reverse_gene_primer, reverse_tm) # Here we see we can't get the desired for the forward so what we do is we change the tm_tolerance or the length"
   ],
   "outputs": []
  },
  {
   "cell_type": "code",
   "execution_count": 13,
   "id": "d9c6cf16-bf28-4c3a-8c48-4fc6620cf59e",
   "metadata": {},
   "source": [
    "# e.g. change the length to be able to get to the desired temperature!\n",
    "\n",
    "# Desired Tm range for optimization\n",
    "desired_tm = 70.0  # Target melting temperature in °C\n",
    "tm_tolerance = 5.0  # Allowable deviation from the desired Tm\n",
    "\n",
    "# Generate and optimize forward primer\n",
    "min_length = 13\n",
    "max_length = 40\n",
    "forward_gene_primer, forward_tm = optimize_primer(forward_plasmid_primer, gene, desired_tm, 'forward',\n",
    "                                                  min_length, max_length, tm_tolerance)\n",
    "reverse_gene_primer, reverse_tm = optimize_primer(reverse_plasmid_primer, gene, desired_tm, 'reverse',\n",
    "                                                  min_length, max_length, tm_tolerance)\n",
    "\n",
    "print(forward_gene_primer, forward_tm)\n",
    "print(reverse_gene_primer, reverse_tm) # Here we see we can't get the desired for the forward so what we do is we change the tm_tolerance or the length"
   ],
   "outputs": []
  }
 ],
 "metadata": {
  "kernelspec": {
   "display_name": "Python 3 (ipykernel)",
   "language": "python",
   "name": "python3"
  },
  "language_info": {
   "codemirror_mode": {
    "name": "ipython",
    "version": 3
   },
   "file_extension": ".py",
   "mimetype": "text/x-python",
   "name": "python",
   "nbconvert_exporter": "python",
   "pygments_lexer": "ipython3",
   "version": "3.10.14"
  }
 },
 "nbformat": 4,
 "nbformat_minor": 5
}
