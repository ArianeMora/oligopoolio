{
 "cells": [
  {
   "cell_type": "markdown",
   "id": "66d646d3-7640-429a-89e5-9eb511c21d6d",
   "metadata": {},
   "source": [
    "# Pools"
   ]
  },
  {
   "cell_type": "code",
   "execution_count": 1,
   "id": "503eaa83-dd81-41f1-8d44-85a218b7a8f0",
   "metadata": {},
   "source": [
    "import sys\n",
    "from oligopoolio import *"
   ],
   "outputs": []
  },
  {
   "cell_type": "code",
   "execution_count": 2,
   "id": "d77efd2a-d97a-40a6-ad72-98e08b80410b",
   "metadata": {},
   "source": "codon_optimized_fasta = 'example_fasta.fasta'",
   "outputs": []
  },
  {
   "cell_type": "code",
   "execution_count": 3,
   "id": "a7bde17c-84f3-40a7-94d7-2af3ee0d1432",
   "metadata": {},
   "source": [
    "make_oligo_single(codon_optimized_fasta, forward_primer='gaaataattttgtttaactttaagaaggagatatacat', \n",
    "                      forward_primer_len=15, reverse_primer='gatccggctgctaacaaag', reverse_primer_len=15, max_len=320)"
   ],
   "outputs": []
  },
  {
   "cell_type": "code",
   "execution_count": 4,
   "id": "b0dfd3d2-24c2-41c5-9e0f-387ceed61502",
   "metadata": {},
   "source": [
    "make_oligo_double(codon_optimized_fasta, forward_primer='gaaataattttgtttaactttaagaaggagatatacat', \n",
    "                      forward_primer_len=15, reverse_primer='gatccggctgctaacaaag', reverse_primer_len=15, max_len=640, \n",
    "                      overlap_len=9)"
   ],
   "outputs": []
  }
 ],
 "metadata": {
  "kernelspec": {
   "display_name": "Python 3 (ipykernel)",
   "language": "python",
   "name": "python3"
  },
  "language_info": {
   "codemirror_mode": {
    "name": "ipython",
    "version": 3
   },
   "file_extension": ".py",
   "mimetype": "text/x-python",
   "name": "python",
   "nbconvert_exporter": "python",
   "pygments_lexer": "ipython3",
   "version": "3.10.14"
  }
 },
 "nbformat": 4,
 "nbformat_minor": 5
}
